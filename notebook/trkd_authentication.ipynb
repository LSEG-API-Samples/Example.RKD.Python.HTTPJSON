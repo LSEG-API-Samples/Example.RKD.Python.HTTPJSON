{
 "cells": [
  {
   "cell_type": "markdown",
   "metadata": {},
   "source": [
    "# RKD HTTP JSON with Python Example: Authentication\n",
    "\n",
    "## Overview\n",
    "The [Refinitiv Knowledge Direct (RKD) API](https://developers.refinitiv.com/thomson-reuters-knowledge-direct-trkd) (formerly known as TRKD API)integrates into your website, trading platform, company intranet/extranet, advisory portal and mobile applications to provide up-to-date financial market data, news and analytics and powerful investment tools.\n",
    "\n",
    "RKD offers a wide range of Refinitiv' information and services delivered in a request-response scenario via web services using today's industry standard protocols (SOAP/XML and REST/JSON). Connectivity can be via HTTP and HTTPS, over the Internet or Delivery Direct. All data are snapshot (non-streaming) data.\n",
    "\n",
    "This is an example project that shows how to implement RKD HTTP JSON client with Python programming lanugage in Jupyter Notebook.\n",
    "\n",
    "### RKD JSON application implementation process\n",
    "The JSON application requires the following steps to consume data from RKD API services\n",
    "1. Authentication with RKD Authentication service to get an authen token\n",
    "2. Send a request message with the required input information and authen token to the interested RKD service"
   ]
  },
  {
   "cell_type": "code",
   "execution_count": null,
   "metadata": {},
   "outputs": [],
   "source": [
    "# #uncomment if you do not have requests installed\n",
    "\n",
    "# # Install requests package in a current Jupyter kernal\n",
    "# import sys\n",
    "# !{sys.executable} -m pip install requests"
   ]
  },
  {
   "cell_type": "code",
   "execution_count": null,
   "metadata": {},
   "outputs": [],
   "source": [
    "# import requires libraries for HTTP Request and JSON Operation\n",
    "\n",
    "import requests\n",
    "import json"
   ]
  },
  {
   "cell_type": "code",
   "execution_count": null,
   "metadata": {},
   "outputs": [],
   "source": [
    "# HTTP operations function\n",
    "def doSendRequest(url, requestMsg, headers):\n",
    "    result = None\n",
    "    try:\n",
    "        result = requests.post(url, data=json.dumps(requestMsg), headers=headers)\n",
    "    except requests.exceptions.RequestException as e:\n",
    "        print('Exception!!!')\n",
    "        print(e)\n",
    "    return result"
   ]
  },
  {
   "cell_type": "markdown",
   "metadata": {},
   "source": [
    "## main process"
   ]
  },
  {
   "cell_type": "code",
   "execution_count": null,
   "metadata": {},
   "outputs": [],
   "source": [
    "# Input your RKD credentials here\n",
    "\n",
    "username = ''\n",
    "password = ''\n",
    "appid = ''"
   ]
  },
  {
   "cell_type": "code",
   "execution_count": null,
   "metadata": {},
   "outputs": [],
   "source": [
    "# Authentication parameters\n",
    "\n",
    "token = None\n",
    "expire = None"
   ]
  },
  {
   "cell_type": "markdown",
   "metadata": {},
   "source": [
    "#### RKD Service Token Detail\n",
    "##### RKD Service Token URL and Header\n",
    "\n",
    "The URL enponint for the RKD Service Token is following:\n",
    "[https://api.rkd.refinitiv.com/api/TokenManagement/TokenManagement.svc/REST/Anonymous/TokenManagement_1/CreateServiceToken_1](https://api.rkd.refinitiv.com/api/TokenManagement/TokenManagement.svc/REST/Anonymous/TokenManagement_1/CreateServiceToken_1)\n",
    "\n",
    "Header: \n",
    "- Content-type = application/json;charset=utf-8\n",
    "Method:\n",
    "- Post\n",
    "\n",
    "##### RKD Service TOKEN Request Message\n",
    "\n",
    "The CreateServiceToken_1 operation requires the following information to perform authentication\n",
    "- ApplicationID\n",
    "- Username\n",
    "- Password\n",
    "\n",
    "The request message structure is following\n",
    "```\n",
    "{\n",
    "    “CreateServiceToken_Request_1”:{\n",
    "      “ApplicationID”: <application id>,\n",
    "      “Username”: <username>,\n",
    "      “Password”: <password>\n",
    "   }\n",
    "}\n",
    "\n",
    "```\n",
    "The example of the response message is shown below\n",
    "```\n",
    "{\n",
    "  \"CreateServiceToken_Response_1\": {\n",
    "    \"Expiration\": \"2016-09-26T09:42:54.4335265Z\",\n",
    "    \"Token\": \"674E12E4EF35F181602672D5529D98379D4B42216057C7FF…\"\n",
    "  }\n",
    "}\n",
    "```\n",
    "- Token: an encrypted, expiring string that securely identifies the service user  (aka service Token)\n",
    "- Expiration: Token expires after a configurable time period. The default expiration is 90 minutes."
   ]
  },
  {
   "cell_type": "code",
   "execution_count": null,
   "metadata": {},
   "outputs": [],
   "source": [
    "# RKD Authentication Post Request message\n",
    "\n",
    "authenMsg = {'CreateServiceToken_Request_1': {'ApplicationID': appid, 'Username': username, 'Password': password}}"
   ]
  },
  {
   "cell_type": "code",
   "execution_count": 1,
   "metadata": {},
   "outputs": [],
   "source": [
    "# RKD Authentication Service URL\n",
    "\n",
    "authenURL = (\n",
    "    'https://api.rkd.refinitiv.com/api/'\n",
    "    'TokenManagement/TokenManagement.svc/REST/'\n",
    "    'Anonymous/TokenManagement_1/CreateServiceToken_1'\n",
    ")"
   ]
  },
  {
   "cell_type": "code",
   "execution_count": null,
   "metadata": {},
   "outputs": [],
   "source": [
    "# RKD Authentication Request headers\n",
    "\n",
    "authen_headers = {'content-type': 'application/json;charset=utf-8'}"
   ]
  },
  {
   "cell_type": "code",
   "execution_count": null,
   "metadata": {},
   "outputs": [],
   "source": [
    "print('############### Sending Authentication request message to RKD ###############')"
   ]
  },
  {
   "cell_type": "code",
   "execution_count": null,
   "metadata": {},
   "outputs": [],
   "source": [
    "# Send Authentication request\n",
    "\n",
    "authenResult = doSendRequest(authenURL, authenMsg, authen_headers)"
   ]
  },
  {
   "cell_type": "code",
   "execution_count": null,
   "metadata": {},
   "outputs": [],
   "source": [
    "if authenResult and authenResult.status_code == 200:\n",
    "    print('Authenticaion success')\n",
    "    print('JSON resonse: %s' % (json.dumps(authenResult.json(),sort_keys=True, indent=2, separators=(',', ':'))))\n",
    "    token = authenResult.json()['CreateServiceToken_Response_1']['Token']\n",
    "    expire = authenResult.json()['CreateServiceToken_Response_1']['Expiration']\n",
    "elif authenResult.status_code is not 200:\n",
    "    print('Authenticaion fail with status code %s' % authenResult.status_code)\n",
    "    if authenResult.status_code == 500:\n",
    "        print('Error: %s' % (json.dumps(authenResult.json(), sort_keys=True, indent=2, separators=(',', ':'))))"
   ]
  },
  {
   "cell_type": "code",
   "execution_count": null,
   "metadata": {},
   "outputs": [],
   "source": [
    "# Print Authentication information\n",
    "\n",
    "print('Token = : %s' % token)\n",
    "print('Expiration = %s' % expire)"
   ]
  },
  {
   "cell_type": "markdown",
   "metadata": {},
   "source": [
    "## Conclusion\n",
    "All RKD HTTP JSON applications require authenticaiton to access RKD data. The application needs to request for Service Token from RKD server, then keeps a response Service Token for later use in other request message header."
   ]
  },
  {
   "cell_type": "markdown",
   "metadata": {},
   "source": [
    "## References\n",
    "For further details, please check out the following resources:\n",
    "* [Refinitiv Knowledge Direct API page](https://developers.refinitiv.com/thomson-reuters-knowledge-direct-trkd) on the [Refinitiv Developer Community](https://developers.refinitiv.com) web site.\n",
    "* [Refinitiv Knowledge Direct API Catalog](https://www.trkd.thomsonreuters.com/SupportSite/RequestBuilder/requestbuilder.aspx) web site.\n",
    "* RKD Article: [How to implement RKD JSON application with Python chapter 1: the basic](https://developers.refinitiv.com/article/how-implement-trkd-json-application-python-chapter-1-basic)\n",
    "* [RKD Tutorial](https://developers.refinitiv.com/thomson-reuters-knowledge-direct-trkd/thomson-reuters-knowledge-direct-api-trkd-api/learning).\n",
    "\n",
    "For any question related to this tutorial or RKD API, please use the Developer Community [Q&A Forum](https://community.developers.refinitiv.com/spaces/51/view.html)."
   ]
  },
  {
   "cell_type": "code",
   "execution_count": null,
   "metadata": {},
   "outputs": [],
   "source": []
  }
 ],
 "metadata": {
  "kernelspec": {
   "display_name": "Python 3",
   "language": "python",
   "name": "python3"
  },
  "language_info": {
   "codemirror_mode": {
    "name": "ipython",
    "version": 3
   },
   "file_extension": ".py",
   "mimetype": "text/x-python",
   "name": "python",
   "nbconvert_exporter": "python",
   "pygments_lexer": "ipython3",
   "version": "3.7.6"
  }
 },
 "nbformat": 4,
 "nbformat_minor": 2
}
