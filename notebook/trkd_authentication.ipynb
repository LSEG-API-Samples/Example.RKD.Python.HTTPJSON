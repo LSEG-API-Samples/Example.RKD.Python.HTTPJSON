{
 "cells": [
  {
   "cell_type": "code",
   "execution_count": null,
   "metadata": {},
   "outputs": [],
   "source": [
    "# Install requests package in a current Jupyter kernal\n",
    "import sys\n",
    "!{sys.executable} -m pip install requests"
   ]
  },
  {
   "cell_type": "code",
   "execution_count": null,
   "metadata": {},
   "outputs": [],
   "source": [
    "# import required libraries\n",
    "\n",
    "import requests\n",
    "import json"
   ]
  },
  {
   "cell_type": "code",
   "execution_count": null,
   "metadata": {},
   "outputs": [],
   "source": [
    "# functions"
   ]
  },
  {
   "cell_type": "code",
   "execution_count": null,
   "metadata": {},
   "outputs": [],
   "source": [
    "# HTTP operations function\n",
    "def doSendRequest(url, requestMsg, headers):\n",
    "    result = None\n",
    "    try:\n",
    "        result = requests.post(url, data=json.dumps(requestMsg), headers=headers)\n",
    "    except requests.exceptions.RequestException as e:\n",
    "        print('Exception!!!')\n",
    "        print(e)\n",
    "    return result"
   ]
  },
  {
   "cell_type": "code",
   "execution_count": null,
   "metadata": {},
   "outputs": [],
   "source": [
    "# main process"
   ]
  },
  {
   "cell_type": "code",
   "execution_count": null,
   "metadata": {},
   "outputs": [],
   "source": [
    "# Input your TRKD credentials here\n",
    "\n",
    "username = \"\"\n",
    "password = \"\"\n",
    "appid = \"\""
   ]
  },
  {
   "cell_type": "code",
   "execution_count": null,
   "metadata": {},
   "outputs": [],
   "source": [
    "# Authentication parameters\n",
    "\n",
    "token = None\n",
    "expire = None"
   ]
  },
  {
   "cell_type": "code",
   "execution_count": null,
   "metadata": {},
   "outputs": [],
   "source": [
    "# TRKD Authentication Post Request message\n",
    "\n",
    "authenMsg = {'CreateServiceToken_Request_1': {'ApplicationID': appid, 'Username': username, 'Password': password}}"
   ]
  },
  {
   "cell_type": "code",
   "execution_count": null,
   "metadata": {},
   "outputs": [],
   "source": [
    "# TRKD Authentication Service URL\n",
    "\n",
    "authenURL = (\n",
    "    'https://api.trkd.thomsonreuters.com/api/'\n",
    "    'TokenManagement/TokenManagement.svc/REST/'\n",
    "    'Anonymous/TokenManagement_1/CreateServiceToken_1'\n",
    ")"
   ]
  },
  {
   "cell_type": "code",
   "execution_count": null,
   "metadata": {},
   "outputs": [],
   "source": [
    "# TRKD Authentication Request headers\n",
    "\n",
    "authen_headers = {'content-type': 'application/json;charset=utf-8'}"
   ]
  },
  {
   "cell_type": "code",
   "execution_count": null,
   "metadata": {},
   "outputs": [],
   "source": [
    "print('############### Sending Authentication request message to TRKD ###############')"
   ]
  },
  {
   "cell_type": "code",
   "execution_count": null,
   "metadata": {},
   "outputs": [],
   "source": [
    "# Send Authentication request\n",
    "\n",
    "authenResult = doSendRequest(authenURL, authenMsg, authen_headers)"
   ]
  },
  {
   "cell_type": "code",
   "execution_count": null,
   "metadata": {},
   "outputs": [],
   "source": [
    "if authenResult and authenResult.status_code == 200:\n",
    "    print('Authenticaion success')\n",
    "    print('JSON resonse: %s' % (json.dumps(authenResult.json(),sort_keys=True, indent=2, separators=(',', ':'))))\n",
    "    token = authenResult.json()['CreateServiceToken_Response_1']['Token']\n",
    "    expire = authenResult.json()['CreateServiceToken_Response_1']['Expiration']\n",
    "elif authenResult.status_code is not 200:\n",
    "    print('Authenticaion fail with status code %s' % authenResult.status_code)\n",
    "    if authenResult.status_code == 500:\n",
    "        print('Error: %s' % (json.dumps(authenResult.json(), sort_keys=True, indent=2, separators=(',', ':'))))"
   ]
  },
  {
   "cell_type": "code",
   "execution_count": null,
   "metadata": {},
   "outputs": [],
   "source": [
    "# Print Authentication information\n",
    "\n",
    "print('Token = : %s' % token)\n",
    "print('Expiration = %s' % expire)"
   ]
  },
  {
   "cell_type": "code",
   "execution_count": null,
   "metadata": {},
   "outputs": [],
   "source": []
  }
 ],
 "metadata": {
  "kernelspec": {
   "display_name": "Python 3",
   "language": "python",
   "name": "python3"
  },
  "language_info": {
   "codemirror_mode": {
    "name": "ipython",
    "version": 3
   },
   "file_extension": ".py",
   "mimetype": "text/x-python",
   "name": "python",
   "nbconvert_exporter": "python",
   "pygments_lexer": "ipython3",
   "version": "3.7.3"
  }
 },
 "nbformat": 4,
 "nbformat_minor": 2
}
